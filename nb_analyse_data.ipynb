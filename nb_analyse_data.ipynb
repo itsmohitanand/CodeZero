{
 "cells": [
  {
   "cell_type": "code",
   "execution_count": 9,
   "metadata": {},
   "outputs": [],
   "source": [
    "import pandas as pd\n",
    "import matplotlib.pyplot as plt\n",
    "import seaborn as sns"
   ]
  },
  {
   "cell_type": "code",
   "execution_count": 4,
   "metadata": {},
   "outputs": [],
   "source": [
    "data = pd.read_csv(\"data/train.csv\")"
   ]
  },
  {
   "cell_type": "code",
   "execution_count": 5,
   "metadata": {},
   "outputs": [
    {
     "data": {
      "text/html": [
       "<div>\n",
       "<style scoped>\n",
       "    .dataframe tbody tr th:only-of-type {\n",
       "        vertical-align: middle;\n",
       "    }\n",
       "\n",
       "    .dataframe tbody tr th {\n",
       "        vertical-align: top;\n",
       "    }\n",
       "\n",
       "    .dataframe thead th {\n",
       "        text-align: right;\n",
       "    }\n",
       "</style>\n",
       "<table border=\"1\" class=\"dataframe\">\n",
       "  <thead>\n",
       "    <tr style=\"text-align: right;\">\n",
       "      <th></th>\n",
       "      <th>id</th>\n",
       "      <th>feature_AA</th>\n",
       "      <th>feature_AB</th>\n",
       "      <th>feature_BA</th>\n",
       "      <th>feature_BB</th>\n",
       "      <th>feature_CA</th>\n",
       "      <th>feature_CB</th>\n",
       "      <th>Temperature</th>\n",
       "    </tr>\n",
       "  </thead>\n",
       "  <tbody>\n",
       "    <tr>\n",
       "      <th>count</th>\n",
       "      <td>64320.000000</td>\n",
       "      <td>64320.000000</td>\n",
       "      <td>64320.000000</td>\n",
       "      <td>64320.000000</td>\n",
       "      <td>64320.000000</td>\n",
       "      <td>64320.000000</td>\n",
       "      <td>64320.000000</td>\n",
       "      <td>64320.000000</td>\n",
       "    </tr>\n",
       "    <tr>\n",
       "      <th>mean</th>\n",
       "      <td>32159.500000</td>\n",
       "      <td>7.522545</td>\n",
       "      <td>2.142897</td>\n",
       "      <td>4.478698</td>\n",
       "      <td>0.820356</td>\n",
       "      <td>3.042537</td>\n",
       "      <td>0.819362</td>\n",
       "      <td>13.610430</td>\n",
       "    </tr>\n",
       "    <tr>\n",
       "      <th>std</th>\n",
       "      <td>18567.728994</td>\n",
       "      <td>6.914888</td>\n",
       "      <td>2.023449</td>\n",
       "      <td>6.669074</td>\n",
       "      <td>1.818778</td>\n",
       "      <td>1.169700</td>\n",
       "      <td>0.602287</td>\n",
       "      <td>8.827735</td>\n",
       "    </tr>\n",
       "    <tr>\n",
       "      <th>min</th>\n",
       "      <td>0.000000</td>\n",
       "      <td>-21.568001</td>\n",
       "      <td>-5.693000</td>\n",
       "      <td>-23.986000</td>\n",
       "      <td>-6.041000</td>\n",
       "      <td>-1.188000</td>\n",
       "      <td>-1.371000</td>\n",
       "      <td>-4.221000</td>\n",
       "    </tr>\n",
       "    <tr>\n",
       "      <th>25%</th>\n",
       "      <td>16079.750000</td>\n",
       "      <td>5.961000</td>\n",
       "      <td>0.670000</td>\n",
       "      <td>3.553000</td>\n",
       "      <td>-0.391000</td>\n",
       "      <td>2.284000</td>\n",
       "      <td>0.640000</td>\n",
       "      <td>6.753000</td>\n",
       "    </tr>\n",
       "    <tr>\n",
       "      <th>50%</th>\n",
       "      <td>32159.500000</td>\n",
       "      <td>8.841000</td>\n",
       "      <td>2.076000</td>\n",
       "      <td>6.041000</td>\n",
       "      <td>0.853000</td>\n",
       "      <td>2.802000</td>\n",
       "      <td>0.944000</td>\n",
       "      <td>11.959000</td>\n",
       "    </tr>\n",
       "    <tr>\n",
       "      <th>75%</th>\n",
       "      <td>48239.250000</td>\n",
       "      <td>11.721000</td>\n",
       "      <td>3.550000</td>\n",
       "      <td>8.635000</td>\n",
       "      <td>2.132000</td>\n",
       "      <td>3.594000</td>\n",
       "      <td>1.157000</td>\n",
       "      <td>18.712000</td>\n",
       "    </tr>\n",
       "    <tr>\n",
       "      <th>max</th>\n",
       "      <td>64319.000000</td>\n",
       "      <td>24.180000</td>\n",
       "      <td>10.315000</td>\n",
       "      <td>18.087000</td>\n",
       "      <td>7.853000</td>\n",
       "      <td>8.498000</td>\n",
       "      <td>3.046000</td>\n",
       "      <td>46.007000</td>\n",
       "    </tr>\n",
       "  </tbody>\n",
       "</table>\n",
       "</div>"
      ],
      "text/plain": [
       "                 id    feature_AA    feature_AB    feature_BA    feature_BB  \\\n",
       "count  64320.000000  64320.000000  64320.000000  64320.000000  64320.000000   \n",
       "mean   32159.500000      7.522545      2.142897      4.478698      0.820356   \n",
       "std    18567.728994      6.914888      2.023449      6.669074      1.818778   \n",
       "min        0.000000    -21.568001     -5.693000    -23.986000     -6.041000   \n",
       "25%    16079.750000      5.961000      0.670000      3.553000     -0.391000   \n",
       "50%    32159.500000      8.841000      2.076000      6.041000      0.853000   \n",
       "75%    48239.250000     11.721000      3.550000      8.635000      2.132000   \n",
       "max    64319.000000     24.180000     10.315000     18.087000      7.853000   \n",
       "\n",
       "         feature_CA    feature_CB   Temperature  \n",
       "count  64320.000000  64320.000000  64320.000000  \n",
       "mean       3.042537      0.819362     13.610430  \n",
       "std        1.169700      0.602287      8.827735  \n",
       "min       -1.188000     -1.371000     -4.221000  \n",
       "25%        2.284000      0.640000      6.753000  \n",
       "50%        2.802000      0.944000     11.959000  \n",
       "75%        3.594000      1.157000     18.712000  \n",
       "max        8.498000      3.046000     46.007000  "
      ]
     },
     "execution_count": 5,
     "metadata": {},
     "output_type": "execute_result"
    }
   ],
   "source": [
    "data.describe()"
   ]
  },
  {
   "cell_type": "code",
   "execution_count": 8,
   "metadata": {},
   "outputs": [
    {
     "data": {
      "text/plain": [
       "<Axes: >"
      ]
     },
     "execution_count": 8,
     "metadata": {},
     "output_type": "execute_result"
    },
    {
     "data": {
      "image/png": "[encoded data removed]",
      "text/plain": [
       "<Figure size 640x480 with 1 Axes>"
      ]
     },
     "metadata": {},
     "output_type": "display_data"
    }
   ],
   "source": [
    "data.Temperature.hist(bins=50)"
   ]
  },
  {
   "cell_type": "code",
   "execution_count": null,
   "metadata": {},
   "outputs": [],
   "source": []
  }
 ],
 "metadata": {
  "kernelspec": {
   "display_name": "code_zero",
   "language": "python",
   "name": "python3"
  },
  "language_info": {
   "codemirror_mode": {
    "name": "ipython",
    "version": 3
   },
   "file_extension": ".py",
   "mimetype": "text/x-python",
   "name": "python",
   "nbconvert_exporter": "python",
   "pygments_lexer": "ipython3",
   "version": "3.12.2"
  }
 },
 "nbformat": 4,
 "nbformat_minor": 2
}
